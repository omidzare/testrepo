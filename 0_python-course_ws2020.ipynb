{
 "cells": [
  {
   "cell_type": "markdown",
   "metadata": {},
   "source": [
    "# Python programming using NumPy, SciPy and Matplotlib/Pylab for Data Mining\n",
    "\n",
    "**Course material adapted from a python workshop given by Antoine Lefebvre at CIRMMT**\n",
    "\n",
    "* Lecture: Introduction to Data Mining (T. Hermann)\n",
    "* Winter Term 2020/2021\n",
    "\n",
    "## Introduction to Python\n",
    "\n",
    "* Python is a simple, powerful and efficient interpreted language.\n",
    "* Together with the NumPy, SciPy and Matplotlib/Pylab, it provides a nice environment for scientific works."
   ]
  },
  {
   "cell_type": "markdown",
   "metadata": {},
   "source": [
    "## Goals of this course module\n",
    "* Getting started with the Python programming language and standard libraries.\n",
    "* Basic information about Numpy, Scipy and Matplotlib/Pylab packages. \n",
    "* See how python will be useful for the Data Mining course"
   ]
  },
  {
   "cell_type": "markdown",
   "metadata": {},
   "source": [
    "## What is Python?\n",
    "* an interpreted, object-oriented, high-level programming language with dynamic semantics.\n",
    "* simple and easy to learn.\n",
    "* open source, free and cross-platform.\n",
    "* it provides high-level built-in data structures.\n",
    "* very useful for rapid application development.\n",
    "* can be used as a scripting or glue language.\n",
    "* enforces code readability.\n",
    "* supports modules and packages."
   ]
  },
  {
   "cell_type": "markdown",
   "metadata": {},
   "source": [
    "## The Python language\n",
    "### Features\n",
    "* Python programs are compiled to bytecode before interpretation (provide fast execution).\n",
    "* Python supports OS tools: environment variables, files, sockets, pipes, processes, threads, regular expressions, and so on.\n",
    "* Python comes with mighty GUI toolkits (e.g. Tkinter, pyQt).\n",
    "* Dynamic typing – Duck typing\n",
    "* Built-in object types\n",
    "* Library utilities\n",
    "* Thousends of Third-party modules\n",
    "* Automatic memory management"
   ]
  },
  {
   "cell_type": "markdown",
   "metadata": {},
   "source": [
    "## Syntax: Basics\n",
    "* comments are indicated with ”#”\n",
    "* two statements on the same line are separated with a semicolon ”;”\n",
    "* no semicolon at the end of lines\n",
    "* a long line continue on next with ”\\” (it is not always needed)\n",
    "* grouping is obtained through indentation\n",
    "* one Python script is considered a module that can be run or imported by other modules\n",
    "* assignment uses the equal sign ”=”\n"
   ]
  },
  {
   "cell_type": "markdown",
   "metadata": {},
   "source": [
    "## Syntax: Assignment\n",
    "* Assignment creates references, not values:"
   ]
  },
  {
   "cell_type": "code",
   "execution_count": 5,
   "metadata": {},
   "outputs": [
    {
     "name": "stdout",
     "output_type": "stream",
     "text": [
      "hello Python \n"
     ]
    }
   ],
   "source": [
    "tmp = \"hello Python \"\n",
    "print(tmp)"
   ]
  },
  {
   "cell_type": "code",
   "execution_count": 3,
   "metadata": {},
   "outputs": [
    {
     "name": "stdout",
     "output_type": "stream",
     "text": [
      "10\n"
     ]
    }
   ],
   "source": [
    "tmp = 10 # the first string will be deallocated\n",
    "print(tmp)"
   ]
  },
  {
   "cell_type": "markdown",
   "metadata": {},
   "source": [
    "* Contrary to C, assignments do not have value: \n",
    " * y = (x = x + 1) is invalid\n",
    "* As in C: x += 1 is valid\n",
    "* Note that pre/post increment/decrement: x++; ++x; x--; --x are invalid\n",
    "* Multiple assignment (references to a unique object): x=y=z=1\n",
    "* Multiple assignments: (x,y,z)=(3.5,5.5,’string’)\n",
    "* Example of swaping variables value: (x,y)=(y,x)"
   ]
  },
  {
   "cell_type": "code",
   "execution_count": 49,
   "metadata": {},
   "outputs": [
    {
     "name": "stdout",
     "output_type": "stream",
     "text": [
      "9 5\n"
     ]
    }
   ],
   "source": [
    "x, y = 5, 9\n",
    "x, y = y, x\n",
    "print(x, y)"
   ]
  },
  {
   "cell_type": "markdown",
   "metadata": {},
   "source": [
    "## Identifiers\n",
    "* First character: a letter or the symbol ”_”\n",
    "* Additional characters: alphanumeric or the symbol ”_” \n",
    "* They are case-sensitive"
   ]
  },
  {
   "cell_type": "markdown",
   "metadata": {},
   "source": [
    "## Documentation\n",
    "* The first unassigned string in a module, class declaration, or function declaration can be accessed through by using\n",
    " * obj.\\_\\_doc\\_\\_\n",
    "* where obj is the module, class, or function name. \n",
    "* \\_\\_doc\\_\\_ is one of Python special variables."
   ]
  },
  {
   "cell_type": "code",
   "execution_count": 1,
   "metadata": {},
   "outputs": [
    {
     "name": "stdout",
     "output_type": "stream",
     "text": [
      "Help on function square in module __main__:\n",
      "\n",
      "square(x)\n",
      "    This is the doc-string\n",
      "    which can cover several lines\n",
      "\n"
     ]
    }
   ],
   "source": [
    "def square(x):\n",
    "    \"\"\"This is the doc-string\n",
    "    which can cover several lines\"\"\"\n",
    "    return x*x\n",
    "# print(\"--->\", square.__doc__, \"<---\\n\\n\")\n",
    "help(square)  # also prints the doc string..."
   ]
  },
  {
   "cell_type": "markdown",
   "metadata": {},
   "source": [
    "## Special variables\n",
    "* Python relies on many special variables that can be accessed by your code.\n",
    "* One is the `__name__` variables.\n",
    "* When a module is run, it contains the string `__main__`.\n",
    "* When the module is imported, it contains the modules name.\n",
    "* You can add code that runs only when a module is called directly:\n",
    " * `if __name__ == ’__main__’: test()`\n",
    "* See online documentation for more details."
   ]
  },
  {
   "cell_type": "markdown",
   "metadata": {},
   "source": [
    "## Types"
   ]
  },
  {
   "cell_type": "markdown",
   "metadata": {},
   "source": [
    "### Built-in object types"
   ]
  },
  {
   "cell_type": "markdown",
   "metadata": {},
   "source": [
    "* **Numbers**: 3.1415, 1234, 999L, 3+4j \n",
    "* **Strings**: ’spam’, \"guido’s\"\n",
    "* **Lists**: [1, [2, ’three’], 4]\n",
    "* **Dictionaries**: {’food’:’spam’, ’taste’:’yum’}\n",
    "* **Tuples**: (1,’spam’, 4, ’U’)\n",
    "* **Files**: text = open(’eggs’, ’r’).read()\n",
    "* **Boolean**: b = True\n",
    " * To sum up True and False in a sentence: they're alternative ways to spell the integer values 1 and 0,"
   ]
  },
  {
   "cell_type": "code",
   "execution_count": 2,
   "metadata": {},
   "outputs": [
    {
     "data": {
      "text/plain": [
       "(-8+6j)"
      ]
     },
     "execution_count": 2,
     "metadata": {},
     "output_type": "execute_result"
    }
   ],
   "source": [
    "(3+4j)*2j"
   ]
  },
  {
   "cell_type": "code",
   "execution_count": 55,
   "metadata": {},
   "outputs": [
    {
     "name": "stdout",
     "output_type": "stream",
     "text": [
      "False True 2\n"
     ]
    }
   ],
   "source": [
    "print((7==9), (9==9), (9==9)+1)"
   ]
  },
  {
   "cell_type": "code",
   "execution_count": 56,
   "metadata": {},
   "outputs": [
    {
     "data": {
      "text/plain": [
       "complex"
      ]
     },
     "execution_count": 56,
     "metadata": {},
     "output_type": "execute_result"
    }
   ],
   "source": [
    "import types\n",
    "type(999+8j)"
   ]
  },
  {
   "cell_type": "markdown",
   "metadata": {},
   "source": [
    "### Numbers"
   ]
  },
  {
   "cell_type": "markdown",
   "metadata": {},
   "source": [
    "* **integers** 1234, -24, 0\n",
    "* **unlimited precision integers** 99999999999999999999999999L\n",
    "* **floating** 1.23, 3.14e-10, 4E210, 4.0e+210\n",
    "* **oct and hex** 0177, 0x9ff\n",
    "* **complex** 3+4j, 3.0+4.0j, 3J"
   ]
  },
  {
   "cell_type": "markdown",
   "metadata": {},
   "source": [
    "### strings (immutable sequences)\n",
    "* single quote "
   ]
  },
  {
   "cell_type": "code",
   "execution_count": 4,
   "metadata": {},
   "outputs": [],
   "source": [
    "s1 = 'chicken ' "
   ]
  },
  {
   "cell_type": "markdown",
   "metadata": {},
   "source": [
    "* double quotes"
   ]
  },
  {
   "cell_type": "code",
   "execution_count": 5,
   "metadata": {},
   "outputs": [],
   "source": [
    " s2 = \"and egg \""
   ]
  },
  {
   "cell_type": "markdown",
   "metadata": {},
   "source": [
    "* triple quotes "
   ]
  },
  {
   "cell_type": "code",
   "execution_count": 6,
   "metadata": {},
   "outputs": [
    {
     "name": "stdout",
     "output_type": "stream",
     "text": [
      "...\n"
     ]
    }
   ],
   "source": [
    "block = \"\"\"...\"\"\"\n",
    "print(block)"
   ]
  },
  {
   "cell_type": "code",
   "execution_count": 7,
   "metadata": {},
   "outputs": [
    {
     "ename": "NameError",
     "evalue": "name 's1' is not defined",
     "output_type": "error",
     "traceback": [
      "\u001b[1;31m---------------------------------------------------------------------------\u001b[0m",
      "\u001b[1;31mNameError\u001b[0m                                 Traceback (most recent call last)",
      "\u001b[1;32m<ipython-input-7-9d799daf3f02>\u001b[0m in \u001b[0;36m<module>\u001b[1;34m\u001b[0m\n\u001b[0;32m      1\u001b[0m \u001b[1;31m# concatenate repeat index, slice length formatting iteration membership\u001b[0m\u001b[1;33m\u001b[0m\u001b[1;33m\u001b[0m\u001b[1;33m\u001b[0m\u001b[0m\n\u001b[1;32m----> 2\u001b[1;33m \u001b[0mprint\u001b[0m\u001b[1;33m(\u001b[0m\u001b[1;34m\"concatenate:\"\u001b[0m\u001b[1;33m,\u001b[0m \u001b[0ms1\u001b[0m \u001b[1;33m+\u001b[0m \u001b[0ms2\u001b[0m\u001b[1;33m)\u001b[0m\u001b[1;33m\u001b[0m\u001b[1;33m\u001b[0m\u001b[0m\n\u001b[0m",
      "\u001b[1;31mNameError\u001b[0m: name 's1' is not defined"
     ]
    }
   ],
   "source": [
    "# concatenate repeat index, slice length formatting iteration membership\n",
    "print(\"concatenate:\", s1 + s2)"
   ]
  },
  {
   "cell_type": "code",
   "execution_count": 8,
   "metadata": {},
   "outputs": [
    {
     "name": "stdout",
     "output_type": "stream",
     "text": [
      "repeat: and egg and egg and egg \n"
     ]
    }
   ],
   "source": [
    "print(\"repeat:\", s2 * 3)"
   ]
  },
  {
   "cell_type": "code",
   "execution_count": 9,
   "metadata": {},
   "outputs": [
    {
     "name": "stdout",
     "output_type": "stream",
     "text": [
      "index: d \n",
      "slice: nd \n"
     ]
    }
   ],
   "source": [
    "print(\"index:\", s2[2], \"\\n\" + \"slice:\", s2[1:4])"
   ]
  },
  {
   "cell_type": "code",
   "execution_count": 11,
   "metadata": {},
   "outputs": [
    {
     "name": "stdout",
     "output_type": "stream",
     "text": [
      "index: n \n",
      "slice: egg\n"
     ]
    }
   ],
   "source": [
    "print(\"index:\",s2[1], \"\\n\" + \"slice:\",s2[4:7])"
   ]
  },
  {
   "cell_type": "code",
   "execution_count": 9,
   "metadata": {},
   "outputs": [
    {
     "name": "stdout",
     "output_type": "stream",
     "text": [
      "length: 8\n"
     ]
    }
   ],
   "source": [
    "print(\"length:\", len(s2))"
   ]
  },
  {
   "cell_type": "code",
   "execution_count": 14,
   "metadata": {},
   "outputs": [
    {
     "name": "stdout",
     "output_type": "stream",
     "text": [
      "classic formatting: 5 dead parrots\n",
      "format formatting:   5.0 dead parrots\n",
      "f-string formatting:   5.0 dead parrots\n"
     ]
    }
   ],
   "source": [
    "s3 = \"%d %s parrots\" % (5, 'dead')\n",
    "print(\"classic formatting:\", s3)\n",
    "\n",
    "s3 = \"{:5.1f} {} parrots\".format(5, 'dead')\n",
    "print(\"format formatting:\", s3)\n",
    "\n",
    "pstat = [5, 'dead']\n",
    "s3 = f\"{pstat[0]:5.1f} {pstat[1]} parrots\"\n",
    "print(\"f-string formatting:\", s3)"
   ]
  },
  {
   "cell_type": "code",
   "execution_count": 12,
   "metadata": {},
   "outputs": [
    {
     "name": "stdout",
     "output_type": "stream",
     "text": [
      " \n",
      " \n",
      "5\n",
      ".\n",
      "0\n",
      " \n",
      "d\n",
      "e\n",
      "a\n",
      "d\n",
      " \n",
      "p\n",
      "a\n",
      "r\n",
      "r\n",
      "o\n",
      "t\n",
      "s\n"
     ]
    }
   ],
   "source": [
    "# iteration\n",
    "for x in s3: # x loop through each character of s2\n",
    "    print(x)"
   ]
  },
  {
   "cell_type": "code",
   "execution_count": 23,
   "metadata": {},
   "outputs": [
    {
     "name": "stdout",
     "output_type": "stream",
     "text": [
      "True\n"
     ]
    }
   ],
   "source": [
    "print('g' in s2) # return True if the ’g’ is in the string s2"
   ]
  },
  {
   "cell_type": "markdown",
   "metadata": {},
   "source": [
    "### Lists\n",
    "* Ordered collections of arbitrary objects\n",
    "* Accessed by integer index\n",
    "* Variable length, heterogeneous, arbitrarily nestable\n",
    "* Mutable sequence\n",
    "* Arrays of object references"
   ]
  },
  {
   "cell_type": "markdown",
   "metadata": {},
   "source": [
    "### Lists operations"
   ]
  },
  {
   "cell_type": "code",
   "execution_count": 14,
   "metadata": {},
   "outputs": [],
   "source": [
    "# empty list \n",
    "L1 = []\n",
    "\n",
    "# five items \n",
    "L2 = [0, 1, 2, 3, \"test\"]\n",
    "\n",
    "# nested \n",
    "L3 = ['abc', ['def', 'ghi']] "
   ]
  },
  {
   "cell_type": "code",
   "execution_count": 15,
   "metadata": {},
   "outputs": [
    {
     "name": "stdout",
     "output_type": "stream",
     "text": [
      "1\n",
      "ghi\n"
     ]
    }
   ],
   "source": [
    "# index \n",
    "print(L2[1])\n",
    "print(L3[1][1])"
   ]
  },
  {
   "cell_type": "code",
   "execution_count": 36,
   "metadata": {},
   "outputs": [
    {
     "name": "stdout",
     "output_type": "stream",
     "text": [
      "[1, 2] 5\n"
     ]
    }
   ],
   "source": [
    "# slice, length \n",
    "print(L2[1:3], len(L2))"
   ]
  },
  {
   "cell_type": "code",
   "execution_count": 37,
   "metadata": {},
   "outputs": [
    {
     "name": "stdout",
     "output_type": "stream",
     "text": [
      "[0, 1, 2, 3, 'test'] [0, 1, 2, 3, 'test', 0, 1, 2, 3, 'test', 0, 1, 2, 3, 'test']\n"
     ]
    }
   ],
   "source": [
    "# concatenate, repeat \n",
    "print(L1 + L2, L2 * 3)"
   ]
  },
  {
   "cell_type": "code",
   "execution_count": 38,
   "metadata": {},
   "outputs": [
    {
     "name": "stdout",
     "output_type": "stream",
     "text": [
      "0\n",
      "1\n",
      "2\n",
      "3\n",
      "test\n"
     ]
    }
   ],
   "source": [
    "# iteration, membership \n",
    "for x in L2:\n",
    "    print(x)"
   ]
  },
  {
   "cell_type": "code",
   "execution_count": 39,
   "metadata": {},
   "outputs": [
    {
     "name": "stdout",
     "output_type": "stream",
     "text": [
      "True\n"
     ]
    }
   ],
   "source": [
    "print(3 in L2)"
   ]
  },
  {
   "cell_type": "code",
   "execution_count": 16,
   "metadata": {},
   "outputs": [
    {
     "data": {
      "text/plain": [
       "False"
      ]
     },
     "execution_count": 16,
     "metadata": {},
     "output_type": "execute_result"
    }
   ],
   "source": [
    "3 in [4,2,6,[3,7]]"
   ]
  },
  {
   "cell_type": "code",
   "execution_count": 40,
   "metadata": {},
   "outputs": [
    {
     "name": "stdout",
     "output_type": "stream",
     "text": [
      "[0, 1, 2, 3, 'test', -4]\n",
      "4\n",
      "[3, 2, 1, 0, -4]\n"
     ]
    }
   ],
   "source": [
    "# methods\n",
    "L2.append(-4)\n",
    "print(L2)\n",
    "L2.remove(\"test\")\n",
    "L2.sort()\n",
    "print(L2.index(3))\n",
    "# help(list.index)\n",
    "L2.reverse()\n",
    "print(L2)"
   ]
  },
  {
   "cell_type": "code",
   "execution_count": 17,
   "metadata": {},
   "outputs": [
    {
     "name": "stdout",
     "output_type": "stream",
     "text": [
      "Help on method_descriptor:\n",
      "\n",
      "index(...)\n",
      "    L.index(value, [start, [stop]]) -> integer -- return first index of value.\n",
      "    Raises ValueError if the value is not present.\n",
      "\n"
     ]
    }
   ],
   "source": [
    "help(list.index)"
   ]
  },
  {
   "cell_type": "code",
   "execution_count": 45,
   "metadata": {},
   "outputs": [
    {
     "name": "stdout",
     "output_type": "stream",
     "text": [
      "[0, 4, 8, 12, 16, 20, 24, 28, 32, 36] <class 'list'>\n"
     ]
    }
   ],
   "source": [
    "import numpy as np\n",
    "# shrinking \n",
    "L2 = [2,5,3,1]\n",
    "del L2[0] \n",
    "L2[1:3] = []\n",
    "\n",
    "# assignment \n",
    "L2[0] = 1\n",
    "L2[3:6] = [4, 5, 6] \n",
    "\n",
    "# create list\n",
    "L2 = list(np.arange(0, 40, 4))\n",
    "print(L2, type(L2))"
   ]
  },
  {
   "cell_type": "markdown",
   "metadata": {},
   "source": [
    "### Dictionaries\n",
    "* Accessed by key, not offset\n",
    "* Unordered collections of arbitrary objects\n",
    "* Variable length, heterogeneous, arbitrarily nestable \n",
    "* Of the category mutable mapping\n",
    "* Tables of object references (hash tables)"
   ]
  },
  {
   "cell_type": "markdown",
   "metadata": {},
   "source": [
    "### Dictionaries operations"
   ]
  },
  {
   "cell_type": "code",
   "execution_count": 18,
   "metadata": {},
   "outputs": [],
   "source": [
    "# empty \n",
    "d1 = {}\n",
    "\n",
    "# two-item \n",
    "d2 = {'spam': 2, 'eggs': 3}\n",
    "\n",
    "# nesting \n",
    "d3 = {'food': {'ham': 1, 'egg': 2}} "
   ]
  },
  {
   "cell_type": "code",
   "execution_count": 19,
   "metadata": {},
   "outputs": [
    {
     "name": "stdout",
     "output_type": "stream",
     "text": [
      "3\n",
      "1\n"
     ]
    }
   ],
   "source": [
    "# indexing \n",
    "print(d2['eggs'])\n",
    "print(d3['food']['ham'])"
   ]
  },
  {
   "cell_type": "code",
   "execution_count": 20,
   "metadata": {},
   "outputs": [
    {
     "name": "stdout",
     "output_type": "stream",
     "text": [
      "True\n"
     ]
    }
   ],
   "source": [
    "# methods \n",
    "print('eggs' in d2)"
   ]
  },
  {
   "cell_type": "code",
   "execution_count": 23,
   "metadata": {},
   "outputs": [
    {
     "name": "stdout",
     "output_type": "stream",
     "text": [
      "dict_keys(['spam', 'eggs'])\n"
     ]
    }
   ],
   "source": [
    "print(d2.keys())"
   ]
  },
  {
   "cell_type": "code",
   "execution_count": 50,
   "metadata": {},
   "outputs": [
    {
     "name": "stdout",
     "output_type": "stream",
     "text": [
      "dict_values([2, 3])\n"
     ]
    }
   ],
   "source": [
    "print(d2.values())"
   ]
  },
  {
   "cell_type": "code",
   "execution_count": 51,
   "metadata": {},
   "outputs": [
    {
     "name": "stdout",
     "output_type": "stream",
     "text": [
      "spam 2\n",
      "eggs 3\n"
     ]
    }
   ],
   "source": [
    "for key, value in d2.items():\n",
    "    print(key, value)"
   ]
  },
  {
   "cell_type": "code",
   "execution_count": 54,
   "metadata": {},
   "outputs": [
    {
     "name": "stdout",
     "output_type": "stream",
     "text": [
      "2\n"
     ]
    }
   ],
   "source": [
    "# length \n",
    "print(len(d2))"
   ]
  },
  {
   "cell_type": "code",
   "execution_count": 55,
   "metadata": {},
   "outputs": [
    {
     "name": "stdout",
     "output_type": "stream",
     "text": [
      "{'spam': 2, 'eggs': 'new value'}\n"
     ]
    }
   ],
   "source": [
    "# add/change \n",
    "d2['eggs'] = 'new value' \n",
    "print(d2)"
   ]
  },
  {
   "cell_type": "code",
   "execution_count": 56,
   "metadata": {},
   "outputs": [
    {
     "name": "stdout",
     "output_type": "stream",
     "text": [
      "{'spam': 2}\n"
     ]
    }
   ],
   "source": [
    "# deleting \n",
    "del d2['eggs']\n",
    "print(d2)"
   ]
  },
  {
   "cell_type": "markdown",
   "metadata": {},
   "source": [
    "### Tuples\n",
    "* They are like lists but immutable. \n",
    "* Use () instead of []\n",
    "* Why Lists and Tuples?\n",
    " * When you want to make sure the content won’t change."
   ]
  },
  {
   "cell_type": "markdown",
   "metadata": {},
   "source": [
    "### Files"
   ]
  },
  {
   "cell_type": "code",
   "execution_count": 57,
   "metadata": {},
   "outputs": [],
   "source": [
    "# output \n",
    "output = open('/tmp/testio', 'w')\n",
    "\n",
    "# write a string\n",
    "output.write(\"test 1234\\n\") \n",
    "\n",
    "# write a list of strings \n",
    "output.writelines([\"qkejhlqkwerh\\n\", \"oqweioiewur\\n\", \"1324\\n\", \"5432\"])\n",
    "\n",
    "# close \n",
    "output.close()"
   ]
  },
  {
   "cell_type": "code",
   "execution_count": 58,
   "metadata": {},
   "outputs": [
    {
     "name": "stdout",
     "output_type": "stream",
     "text": [
      "tes\n"
     ]
    }
   ],
   "source": [
    "# input \n",
    "input = open('/tmp/testio', 'r') \n",
    "\n",
    "# read N bytes \n",
    "S = input.read(3) \n",
    "print(S)"
   ]
  },
  {
   "cell_type": "code",
   "execution_count": 59,
   "metadata": {},
   "outputs": [
    {
     "name": "stdout",
     "output_type": "stream",
     "text": [
      "S:  t 1234\n",
      "\n"
     ]
    }
   ],
   "source": [
    "# read next \n",
    "S = input.readline()\n",
    "print(\"S: \", S)"
   ]
  },
  {
   "cell_type": "code",
   "execution_count": 60,
   "metadata": {},
   "outputs": [
    {
     "name": "stdout",
     "output_type": "stream",
     "text": [
      "qkejhlqkwerh\n",
      "oqweioiewur\n",
      "1324\n",
      "5432\n"
     ]
    }
   ],
   "source": [
    "# read all \n",
    "S = input.read()\n",
    "print(S)"
   ]
  },
  {
   "cell_type": "code",
   "execution_count": 62,
   "metadata": {},
   "outputs": [
    {
     "name": "stdout",
     "output_type": "stream",
     "text": [
      "['test 1234\\n', 'qkejhlqkwerh\\n', 'oqweioiewur\\n', '1324\\n', '5432']\n"
     ]
    }
   ],
   "source": [
    "# read in lists \n",
    "input = open('/tmp/testio', 'r')\n",
    "print(input.readlines())\n",
    "input.close()"
   ]
  },
  {
   "cell_type": "markdown",
   "metadata": {},
   "source": [
    "### Unsupported Types\n",
    "* no char or single byte, use strings of length one or integers\n",
    "* no pointer\n",
    "* int vs. short vs. long, there is only one integer type in Python\n",
    " * C long\n",
    "* float vs. double, there is only one floating point type in Python \n",
    " * C double"
   ]
  },
  {
   "cell_type": "markdown",
   "metadata": {},
   "source": [
    "### Comparisons vs. Equality"
   ]
  },
  {
   "cell_type": "code",
   "execution_count": 24,
   "metadata": {},
   "outputs": [
    {
     "name": "stdout",
     "output_type": "stream",
     "text": [
      "True False\n"
     ]
    },
    {
     "data": {
      "text/plain": [
       "True"
      ]
     },
     "execution_count": 24,
     "metadata": {},
     "output_type": "execute_result"
    }
   ],
   "source": [
    "L1 = [1, ('a', 3)]\n",
    "L2 = [1, ('a', 3)]\n",
    "L3 = L2\n",
    "\n",
    "print(L1==L2, L1 is L2) # == tests value equivalence, is tests identity\n",
    "L2 is L3"
   ]
  },
  {
   "cell_type": "markdown",
   "metadata": {},
   "source": [
    "## Control Structures"
   ]
  },
  {
   "cell_type": "markdown",
   "metadata": {},
   "source": [
    "### if, elif, else"
   ]
  },
  {
   "cell_type": "code",
   "execution_count": 65,
   "metadata": {},
   "outputs": [
    {
     "name": "stdout",
     "output_type": "stream",
     "text": [
      "but not done\n"
     ]
    }
   ],
   "source": [
    "done = 0\n",
    "x = 0.2\n",
    "if not done and (x > 1):\n",
    "    print(\"x>1\")\n",
    "elif done and (x <= 1):\n",
    "    print(\"x<=1\")\n",
    "else:\n",
    "    print(\"but not done\")"
   ]
  },
  {
   "cell_type": "markdown",
   "metadata": {},
   "source": [
    "### while, break"
   ]
  },
  {
   "cell_type": "code",
   "execution_count": 66,
   "metadata": {},
   "outputs": [
    {
     "name": "stdout",
     "output_type": "stream",
     "text": [
      "1\n",
      "2\n",
      "3\n",
      "4\n",
      "5\n",
      "6\n",
      "7\n",
      "8\n"
     ]
    }
   ],
   "source": [
    "i = 0\n",
    "while i<8:\n",
    "    i += 1\n",
    "    print(i)"
   ]
  },
  {
   "cell_type": "code",
   "execution_count": 78,
   "metadata": {},
   "outputs": [
    {
     "name": "stdout",
     "output_type": "stream",
     "text": [
      "1\n",
      "2\n",
      "4\n",
      "5\n",
      "6\n",
      "7\n",
      "done.\n"
     ]
    }
   ],
   "source": [
    "i = 0\n",
    "while i < 25:\n",
    "    i += 1\n",
    "    if i == 3: \n",
    "        continue\n",
    "    if i == 8:\n",
    "        break\n",
    "    print(i)\n",
    "print(\"done.\")"
   ]
  },
  {
   "cell_type": "markdown",
   "metadata": {},
   "source": [
    "### for-Loop"
   ]
  },
  {
   "cell_type": "code",
   "execution_count": 79,
   "metadata": {},
   "outputs": [
    {
     "name": "stdout",
     "output_type": "stream",
     "text": [
      "3\n",
      "5\n",
      "9\n",
      "11\n",
      "13\n",
      "15\n"
     ]
    }
   ],
   "source": [
    "for i in range(3, 16, 2):\n",
    "    if i == 7: \n",
    "        continue \n",
    "    print(i)"
   ]
  },
  {
   "cell_type": "code",
   "execution_count": 81,
   "metadata": {},
   "outputs": [
    {
     "name": "stdout",
     "output_type": "stream",
     "text": [
      "h...e...l...l...o... ...p...y...t...h...o...n..."
     ]
    }
   ],
   "source": [
    "for letter in 'hello python':\n",
    "    print(letter, end=\"...\")"
   ]
  },
  {
   "cell_type": "code",
   "execution_count": 82,
   "metadata": {},
   "outputs": [
    {
     "name": "stdout",
     "output_type": "stream",
     "text": [
      "sonification\n",
      "True\n",
      "(0.1+1.2j)\n"
     ]
    }
   ],
   "source": [
    "for item in ['sonification', True, 0.1+1.2J]:\n",
    "    print(item)"
   ]
  },
  {
   "cell_type": "markdown",
   "metadata": {},
   "source": [
    "### pass"
   ]
  },
  {
   "cell_type": "code",
   "execution_count": 83,
   "metadata": {},
   "outputs": [],
   "source": [
    "def stub():\n",
    "    pass"
   ]
  },
  {
   "cell_type": "markdown",
   "metadata": {},
   "source": [
    "* pass is a null operation: nothing happens when it executes. \n",
    "* The pass is also useful in places where your code will eventually go, but has not been written yet (e.g., in stubs for example)"
   ]
  },
  {
   "cell_type": "markdown",
   "metadata": {},
   "source": [
    "### switch/case\n",
    "* There is no such statement in Python. \n",
    "* It can be implemented efficiently with a dictionary of functions:"
   ]
  },
  {
   "cell_type": "code",
   "execution_count": 84,
   "metadata": {},
   "outputs": [
    {
     "data": {
      "text/plain": [
       "17"
      ]
     },
     "execution_count": 84,
     "metadata": {},
     "output_type": "execute_result"
    }
   ],
   "source": [
    "result = {\n",
    "    'a': lambda x: x * 5,\n",
    "    'b': lambda x: x + 7,\n",
    "    'c': lambda x: x - 2\n",
    "}\n",
    "result['b'](10)"
   ]
  },
  {
   "cell_type": "markdown",
   "metadata": {},
   "source": [
    "### lambda construct\n",
    "* Note: anonymous function need be defined with the lambda construct. \n",
    "* lambda functions can be placed whereever a function is expected without formal definition.\n"
   ]
  },
  {
   "cell_type": "code",
   "execution_count": 86,
   "metadata": {},
   "outputs": [],
   "source": [
    "# The following functions f and g do the same thing:\n",
    "\n",
    "def f(x): return x**2\n",
    "\n",
    "g = lambda x: x**2"
   ]
  },
  {
   "cell_type": "markdown",
   "metadata": {},
   "source": [
    "### Errors and Exceptions\n",
    "* NameError: attempt to access an undeclared variable \n",
    "* ZeroDivisionError: division by any numeric zero\n",
    "* SyntaxError: Python interpreter syntax error\n",
    "* IndexError: request for an out-of-range index for sequence\n",
    "* KeyError: request for a non-existent dictionary key \n",
    "* IOError input/output error\n",
    "* AttributeError: attempt to access an unknown object attribute"
   ]
  },
  {
   "cell_type": "code",
   "execution_count": 25,
   "metadata": {},
   "outputs": [
    {
     "name": "stdout",
     "output_type": "stream",
     "text": [
      "could not open file\n"
     ]
    }
   ],
   "source": [
    "try:\n",
    "    f = open('blah')\n",
    "except IOError:\n",
    "    print ('could not open file')"
   ]
  },
  {
   "cell_type": "markdown",
   "metadata": {},
   "source": [
    "### assertion"
   ]
  },
  {
   "cell_type": "code",
   "execution_count": 27,
   "metadata": {},
   "outputs": [],
   "source": [
    "val = 99\n",
    "assert 0 < val < 100, 'Value out of range'"
   ]
  },
  {
   "cell_type": "markdown",
   "metadata": {},
   "source": [
    "### Functions\n",
    "* Functions can return any type of object\n",
    "* When nothing is return the None object is returned by default\n",
    "* There is two ways to specify function parameters: \n",
    " * standard and keyworded\n",
    "* Parameters can have default arguments\n",
    "* Variable-length arguments are supported"
   ]
  },
  {
   "cell_type": "code",
   "execution_count": 188,
   "metadata": {},
   "outputs": [
    {
     "name": "stdout",
     "output_type": "stream",
     "text": [
      "3\n",
      "3\n",
      "2\n"
     ]
    }
   ],
   "source": [
    "def fn(x,y): return x\n",
    "\n",
    "def test(a, b=2, d=fn):\n",
    "    \"\"\" Function showing how to define\n",
    "        arguments with and w/o default values\n",
    "        Expect a function object for the third.\"\"\"\n",
    "    return d(a,b)\n",
    "\n",
    "print (test(3))\n",
    "print (test(b=4, a=3))\n",
    "print (test(1, 2, lambda x,y: x*y))"
   ]
  },
  {
   "cell_type": "markdown",
   "metadata": {},
   "source": [
    "### Functions with variable-length arguments"
   ]
  },
  {
   "cell_type": "code",
   "execution_count": 91,
   "metadata": {},
   "outputs": [],
   "source": [
    "def vargtest(a, b, *nkw, **kw):\n",
    "    \"\"\"display regular args and all variable args\"\"\"\n",
    "    print('a is:', a)\n",
    "    print('b is:', b)\n",
    "\n",
    "    for eachNKW in nkw:\n",
    "        print('additional non-keyword arg:', eachNKW)\n",
    "    for eachKW in kw.keys():\n",
    "        print(\"additional keyword arg: '%s' with value %s\" %(eachKW, kw[eachKW]))\n",
    "    # for eachKW, KWvalue in kw.items():\n",
    "    #    print(\"additional keyword arg: '%s' with value %s\" %(eachKW, KWvalue))"
   ]
  },
  {
   "cell_type": "code",
   "execution_count": 92,
   "metadata": {},
   "outputs": [
    {
     "name": "stdout",
     "output_type": "stream",
     "text": [
      "a is: 1\n",
      "b is: 2\n",
      "additional non-keyword arg: 3\n",
      "additional non-keyword arg: 4\n",
      "additional keyword arg: 'x' with value 2\n",
      "additional keyword arg: 'y' with value 3\n",
      "None\n"
     ]
    }
   ],
   "source": [
    "print(vargtest(1, 2, 3, 4, x=2, y=3))"
   ]
  },
  {
   "cell_type": "code",
   "execution_count": 93,
   "metadata": {},
   "outputs": [
    {
     "name": "stdout",
     "output_type": "stream",
     "text": [
      "a is: 1\n",
      "b is: 2\n",
      "additional non-keyword arg: 4\n",
      "additional non-keyword arg: 5\n",
      "additional non-keyword arg: 6\n",
      "additional keyword arg: 'x' with value 1\n",
      "additional keyword arg: 'y' with value 3\n",
      "None\n"
     ]
    }
   ],
   "source": [
    "print(vargtest(1,2, *(4,5,6), **{'x':1,'y':3}))"
   ]
  },
  {
   "cell_type": "markdown",
   "metadata": {},
   "source": [
    "## Modules"
   ]
  },
  {
   "cell_type": "markdown",
   "metadata": {},
   "source": [
    "### Modules, namespaces and packages"
   ]
  },
  {
   "cell_type": "markdown",
   "metadata": {},
   "source": [
    "* A file is a module. \n",
    "* Suppose we have a file called ’myio.py’, implementing a function called ’load’\n",
    "* If we want to use that function from another module we do\n",
    "\n",
    "> import myio\n",
    "\n",
    "> myio.load()\n",
    "\n",
    "* All the code present in ’myio.py’ will be in the ’myio’ namespace\n",
    "* You can import specific parts of a module \n",
    "\n",
    "> from myio import load\n",
    "\n",
    "> load()\n",
    "\n",
    "* Packages are bundle of modules. We won’t cover that."
   ]
  },
  {
   "cell_type": "markdown",
   "metadata": {},
   "source": [
    "## Classes"
   ]
  },
  {
   "cell_type": "code",
   "execution_count": 94,
   "metadata": {},
   "outputs": [
    {
     "data": {
      "text/plain": [
       "3.141592654"
      ]
     },
     "execution_count": 94,
     "metadata": {},
     "output_type": "execute_result"
    }
   ],
   "source": [
    "class MyObject: \n",
    "    def __init__(self):\n",
    "        pass\n",
    "        \n",
    "class Circle(MyObject):\n",
    "    def __init__(self, radian):\n",
    "        \"Create a circle\"\n",
    "        self.radian = radian\n",
    "        self.diameter = radian*2\n",
    "    def __del__(self):\n",
    "        pass\n",
    "    def area(self):\n",
    "        return self.radian**2*3.141592654\n",
    "\n",
    "c = Circle(1); \n",
    "c.area()"
   ]
  },
  {
   "cell_type": "markdown",
   "metadata": {},
   "source": [
    "### Function overloading\n",
    "* Python does not support method or function overloading \n",
    "* You have to rely on the type() built-in function"
   ]
  },
  {
   "cell_type": "code",
   "execution_count": 95,
   "metadata": {},
   "outputs": [
    {
     "name": "stdout",
     "output_type": "stream",
     "text": [
      "A complex number\n"
     ]
    }
   ],
   "source": [
    "import types \n",
    "def testtype(a):\n",
    "    if isinstance(a, float): # if type(a) is float: - also works but doesn't support inheretance\n",
    "        print(\"I got a float\")\n",
    "    elif isinstance(a, complex): # if type(a) is complex: - also works but doesn't support inheretance\n",
    "        print(\"A complex number\")\n",
    "    else:\n",
    "        print(\"something else\")\n",
    "testtype(3.5+3j)"
   ]
  },
  {
   "cell_type": "markdown",
   "metadata": {},
   "source": [
    "## Python standard library\n",
    "### standard library core modules\n",
    "* os: file and process operations\n",
    "* os.path: platform-independant path and filename utilities\n",
    "* time: dates and times related functions \n",
    "* string: commonly used string operations\n",
    "* math, cmath: math operations and constants, complex version \n",
    "* re: regular expressions\n",
    "* sys: access to interpreter variables\n",
    "* gc: control over garbage collector\n",
    "* copy: allow to copy object"
   ]
  },
  {
   "cell_type": "markdown",
   "metadata": {},
   "source": [
    "## More modules\n",
    "* Support for threads, pipes, signals, etc.\n",
    "* Support for common file formats: XML, SGML and HTML; zip and gzip; a lexer\n",
    "* Support for network protocols\n",
    "* Support for reading and writing images and sound\n",
    "* Support for databases\n",
    "* Support for debugging, profiling and analysing code"
   ]
  },
  {
   "cell_type": "markdown",
   "metadata": {},
   "source": [
    "## Many GUI packages\n",
    "* Tkinter standard Python interface to the Tk GUI toolkit (cross-platform)\n",
    "* wxPython toolkit for Python built around the popular wxWidgets C++ toolkit (cross-platform)\n",
    "* PyQt binding to the Qt toolkit (cross-platform) \n",
    "* PyGTK bindings for the GTK widget set￼"
   ]
  },
  {
   "cell_type": "markdown",
   "metadata": {},
   "source": [
    "## NumPy: fundamental package for scientific computing with Python\n",
    "* powerful N-dimensional array object sophisticated functions\n",
    "* Linear algebra functions\n",
    "* Fourier transforms\n",
    "* Versatile random number capabilities \n",
    "* Tools for integrating C/C++ code."
   ]
  },
  {
   "cell_type": "markdown",
   "metadata": {},
   "source": [
    "## Comparing Numpy with Matlab\n",
    "* In NumPy, operation are elementwise by default\n",
    " * There is a matrix type for linear algebra (subclass of array)\n",
    "* Indexing starts at 0 in NumPy\n",
    "* NumPy/SciPy is free of charge\n",
    "* Matlab has lots of ’toolboxes’ for specific task (lot less in Numpy/SciPy)\n",
    "* There are many packages for plotting in Python that are as good as Matlab"
   ]
  },
  {
   "cell_type": "markdown",
   "metadata": {},
   "source": [
    "## Data table in numpy"
   ]
  },
  {
   "cell_type": "code",
   "execution_count": 97,
   "metadata": {},
   "outputs": [],
   "source": [
    "# useful header\n",
    "import matplotlib.pyplot as plt\n",
    "import numpy as np\n",
    "import scipy as sp\n",
    "%matplotlib inline\n",
    "# discouraged: %pylab inline"
   ]
  },
  {
   "cell_type": "code",
   "execution_count": 98,
   "metadata": {},
   "outputs": [],
   "source": [
    "d = np.zeros((1000, 3))"
   ]
  },
  {
   "cell_type": "code",
   "execution_count": 99,
   "metadata": {},
   "outputs": [
    {
     "name": "stdout",
     "output_type": "stream",
     "text": [
      "1000 3\n"
     ]
    }
   ],
   "source": [
    "N, dim = np.shape(d)\n",
    "print (N, dim)"
   ]
  },
  {
   "cell_type": "code",
   "execution_count": 100,
   "metadata": {},
   "outputs": [],
   "source": [
    "for i in range(N):\n",
    "    d[i,0] = i*0.05\n",
    "    d[i,1] = np.sin(0.39*i)+ 0.1*np.random.randn(1)\n",
    "    d[i,2] = np.cos(0.1*i) + 0.1*np.random.randn(1)"
   ]
  },
  {
   "cell_type": "code",
   "execution_count": 101,
   "metadata": {},
   "outputs": [
    {
     "name": "stdout",
     "output_type": "stream",
     "text": [
      "[[ 0.00000000e+00 -1.56814404e-02  1.05109090e+00]\n",
      " [ 5.00000000e-02  2.76917292e-01  1.10423649e+00]\n",
      " [ 1.00000000e-01  6.70286120e-01  9.13277291e-01]\n",
      " ...\n",
      " [ 4.98500000e+01 -7.89601878e-01  8.35396481e-01]\n",
      " [ 4.99000000e+01 -3.02939164e-01  6.48094427e-01]\n",
      " [ 4.99500000e+01  1.77595596e-01  7.81135532e-01]]\n"
     ]
    }
   ],
   "source": [
    "print (d)"
   ]
  },
  {
   "cell_type": "code",
   "execution_count": 102,
   "metadata": {},
   "outputs": [
    {
     "data": {
      "text/plain": [
       "[<matplotlib.lines.Line2D at 0x11900a240>]"
      ]
     },
     "execution_count": 102,
     "metadata": {},
     "output_type": "execute_result"
    },
    {
     "data": {
      "image/png": "[encoded data removed]",
      "text/plain": [
       "<Figure size 432x288 with 1 Axes>"
      ]
     },
     "metadata": {
      "needs_background": "light"
     },
     "output_type": "display_data"
    }
   ],
   "source": [
    "plt.plot(d[:,0], d[:,2], \"g-\")"
   ]
  },
  {
   "cell_type": "code",
   "execution_count": 103,
   "metadata": {},
   "outputs": [
    {
     "data": {
      "text/plain": [
       "[<matplotlib.lines.Line2D at 0x1191610b8>]"
      ]
     },
     "execution_count": 103,
     "metadata": {},
     "output_type": "execute_result"
    },
    {
     "data": {
      "image/png": "[encoded data removed]",
      "text/plain": [
       "<Figure size 432x288 with 1 Axes>"
      ]
     },
     "metadata": {
      "needs_background": "light"
     },
     "output_type": "display_data"
    }
   ],
   "source": [
    "plt.plot(d[500:1000, 0], d[500:1000,2], \".\")\n",
    "# plt.show()"
   ]
  },
  {
   "cell_type": "markdown",
   "metadata": {},
   "source": [
    "## Some frequently used NumPy expressions"
   ]
  },
  {
   "cell_type": "code",
   "execution_count": 104,
   "metadata": {},
   "outputs": [
    {
     "data": {
      "text/plain": [
       "array([[1., 2., 3.],\n",
       "       [4., 5., 6.]])"
      ]
     },
     "execution_count": 104,
     "metadata": {},
     "output_type": "execute_result"
    }
   ],
   "source": [
    "a = np.array([[1.,2.,3.],[4.,5.,6.]])\n",
    "a"
   ]
  },
  {
   "cell_type": "code",
   "execution_count": 105,
   "metadata": {},
   "outputs": [
    {
     "data": {
      "text/plain": [
       "array([4., 5., 6.])"
      ]
     },
     "execution_count": 105,
     "metadata": {},
     "output_type": "execute_result"
    }
   ],
   "source": [
    "a[-1] # last element"
   ]
  },
  {
   "cell_type": "code",
   "execution_count": 106,
   "metadata": {},
   "outputs": [
    {
     "data": {
      "text/plain": [
       "4.0"
      ]
     },
     "execution_count": 106,
     "metadata": {},
     "output_type": "execute_result"
    }
   ],
   "source": [
    "a[1,0] # matrix access"
   ]
  },
  {
   "cell_type": "code",
   "execution_count": 107,
   "metadata": {},
   "outputs": [
    {
     "name": "stdout",
     "output_type": "stream",
     "text": [
      "[4. 5. 6.]\n",
      "[4. 5. 6.]\n"
     ]
    }
   ],
   "source": [
    "print (a[1])\n",
    "# or \n",
    "print(a[1,:]) # row vector (resp. data cube of d-1 dim)"
   ]
  },
  {
   "cell_type": "code",
   "execution_count": 108,
   "metadata": {},
   "outputs": [
    {
     "data": {
      "text/plain": [
       "array([[48, 78, 54, 75,  0],\n",
       "       [46, 49, 54,  4, 70],\n",
       "       [76, 89, 58,  8,  6],\n",
       "       [29, 30, 35, 13, 89],\n",
       "       [96, 10, 59, 60, 73],\n",
       "       [33, 23, 43, 50, 20],\n",
       "       [28, 68, 32, 33, 43],\n",
       "       [17, 49, 33, 74, 89],\n",
       "       [88, 82, 33, 80, 53],\n",
       "       [15, 52, 83, 23, 50],\n",
       "       [30, 91, 81, 86, 60],\n",
       "       [47, 94, 78, 64, 69],\n",
       "       [53, 52, 17, 49,  2],\n",
       "       [57, 36, 15, 92, 97],\n",
       "       [96, 49, 42, 89, 59]])"
      ]
     },
     "execution_count": 108,
     "metadata": {},
     "output_type": "execute_result"
    }
   ],
   "source": [
    "a = np.random.randint(0, 99, (15,5)); \n",
    "a"
   ]
  },
  {
   "cell_type": "code",
   "execution_count": 109,
   "metadata": {},
   "outputs": [
    {
     "data": {
      "text/plain": [
       "array([[48, 78, 54, 75,  0],\n",
       "       [46, 49, 54,  4, 70],\n",
       "       [76, 89, 58,  8,  6],\n",
       "       [29, 30, 35, 13, 89],\n",
       "       [96, 10, 59, 60, 73]])"
      ]
     },
     "execution_count": 109,
     "metadata": {},
     "output_type": "execute_result"
    }
   ],
   "source": [
    "a[0:5]  # or a[:5] or a[0:5,:] # slicing "
   ]
  },
  {
   "cell_type": "code",
   "execution_count": 110,
   "metadata": {},
   "outputs": [
    {
     "data": {
      "text/plain": [
       "array([[30, 91, 81, 86, 60],\n",
       "       [47, 94, 78, 64, 69],\n",
       "       [53, 52, 17, 49,  2],\n",
       "       [57, 36, 15, 92, 97],\n",
       "       [96, 49, 42, 89, 59]])"
      ]
     },
     "execution_count": 110,
     "metadata": {},
     "output_type": "execute_result"
    }
   ],
   "source": [
    "a[-5:] # neg indices wrap around"
   ]
  },
  {
   "cell_type": "code",
   "execution_count": 111,
   "metadata": {},
   "outputs": [
    {
     "data": {
      "text/plain": [
       "array([[ 0],\n",
       "       [70],\n",
       "       [ 6]])"
      ]
     },
     "execution_count": 111,
     "metadata": {},
     "output_type": "execute_result"
    }
   ],
   "source": [
    "a[0:3][:,4:9]"
   ]
  },
  {
   "cell_type": "code",
   "execution_count": 112,
   "metadata": {},
   "outputs": [
    {
     "data": {
      "text/plain": [
       "array([[48, 78, 54, 75,  0],\n",
       "       [76, 89, 58,  8,  6],\n",
       "       [96, 10, 59, 60, 73],\n",
       "       [28, 68, 32, 33, 43],\n",
       "       [88, 82, 33, 80, 53],\n",
       "       [30, 91, 81, 86, 60],\n",
       "       [53, 52, 17, 49,  2],\n",
       "       [96, 49, 42, 89, 59]])"
      ]
     },
     "execution_count": 112,
     "metadata": {},
     "output_type": "execute_result"
    }
   ],
   "source": [
    "a[::2,:] # stride in row yet all columns"
   ]
  },
  {
   "cell_type": "code",
   "execution_count": 113,
   "metadata": {},
   "outputs": [
    {
     "data": {
      "text/plain": [
       "array([[96, 49, 42, 89, 59],\n",
       "       [57, 36, 15, 92, 97],\n",
       "       [53, 52, 17, 49,  2],\n",
       "       [47, 94, 78, 64, 69],\n",
       "       [30, 91, 81, 86, 60],\n",
       "       [15, 52, 83, 23, 50],\n",
       "       [88, 82, 33, 80, 53],\n",
       "       [17, 49, 33, 74, 89],\n",
       "       [28, 68, 32, 33, 43],\n",
       "       [33, 23, 43, 50, 20],\n",
       "       [96, 10, 59, 60, 73],\n",
       "       [29, 30, 35, 13, 89],\n",
       "       [76, 89, 58,  8,  6],\n",
       "       [46, 49, 54,  4, 70],\n",
       "       [48, 78, 54, 75,  0]])"
      ]
     },
     "execution_count": 113,
     "metadata": {},
     "output_type": "execute_result"
    }
   ],
   "source": [
    "a[::-1,:] # reverse row order"
   ]
  },
  {
   "cell_type": "code",
   "execution_count": 114,
   "metadata": {},
   "outputs": [
    {
     "data": {
      "text/plain": [
       "array([[48, 46, 76, 29, 96, 33, 28, 17, 88, 15, 30, 47, 53, 57, 96],\n",
       "       [78, 49, 89, 30, 10, 23, 68, 49, 82, 52, 91, 94, 52, 36, 49],\n",
       "       [54, 54, 58, 35, 59, 43, 32, 33, 33, 83, 81, 78, 17, 15, 42],\n",
       "       [75,  4,  8, 13, 60, 50, 33, 74, 80, 23, 86, 64, 49, 92, 89],\n",
       "       [ 0, 70,  6, 89, 73, 20, 43, 89, 53, 50, 60, 69,  2, 97, 59]])"
      ]
     },
     "execution_count": 114,
     "metadata": {},
     "output_type": "execute_result"
    }
   ],
   "source": [
    "a.transpose() # or a.T "
   ]
  },
  {
   "cell_type": "code",
   "execution_count": 115,
   "metadata": {},
   "outputs": [
    {
     "name": "stdout",
     "output_type": "stream",
     "text": [
      "[[63.+51.j 83.+67.j 52.+23.j]\n",
      " [15.+40.j 45.+34.j 19.+69.j]\n",
      " [70.+52.j 62.+58.j 19.+33.j]]\n"
     ]
    },
    {
     "data": {
      "text/plain": [
       "array([[63.-51.j, 83.-67.j, 52.-23.j],\n",
       "       [15.-40.j, 45.-34.j, 19.-69.j],\n",
       "       [70.-52.j, 62.-58.j, 19.-33.j]])"
      ]
     },
     "execution_count": 115,
     "metadata": {},
     "output_type": "execute_result"
    }
   ],
   "source": [
    "b = np.random.randint(0,99,(3,3)) + np.random.randint(0,99,(3,3)) * 1j\n",
    "print (b)\n",
    "b.conj() # or a.conj().T "
   ]
  },
  {
   "cell_type": "code",
   "execution_count": 116,
   "metadata": {},
   "outputs": [
    {
     "data": {
      "text/plain": [
       "28"
      ]
     },
     "execution_count": 116,
     "metadata": {},
     "output_type": "execute_result"
    }
   ],
   "source": [
    "a = np.array([1,3,2])\n",
    "b = np.array([4,2,9])\n",
    "np.dot(a,b) # scalar product"
   ]
  },
  {
   "cell_type": "code",
   "execution_count": 117,
   "metadata": {},
   "outputs": [
    {
     "data": {
      "text/plain": [
       "array([ 4,  6, 18])"
      ]
     },
     "execution_count": 117,
     "metadata": {},
     "output_type": "execute_result"
    }
   ],
   "source": [
    "a * b # elementwise product (delivers array)"
   ]
  },
  {
   "cell_type": "code",
   "execution_count": 118,
   "metadata": {},
   "outputs": [
    {
     "data": {
      "text/plain": [
       "array([0.25      , 1.5       , 0.22222222])"
      ]
     },
     "execution_count": 118,
     "metadata": {},
     "output_type": "execute_result"
    }
   ],
   "source": [
    "a / b # elementwise division"
   ]
  },
  {
   "cell_type": "code",
   "execution_count": 119,
   "metadata": {},
   "outputs": [
    {
     "data": {
      "text/plain": [
       "array([ 1, 27,  8])"
      ]
     },
     "execution_count": 119,
     "metadata": {},
     "output_type": "execute_result"
    }
   ],
   "source": [
    "a ** 3 # elementwise potential "
   ]
  },
  {
   "cell_type": "code",
   "execution_count": 120,
   "metadata": {},
   "outputs": [
    {
     "data": {
      "text/plain": [
       "(array([1, 2]),)"
      ]
     },
     "execution_count": 120,
     "metadata": {},
     "output_type": "execute_result"
    }
   ],
   "source": [
    "np.where(a>1) # index array for true condition"
   ]
  },
  {
   "cell_type": "code",
   "execution_count": 121,
   "metadata": {},
   "outputs": [
    {
     "name": "stdout",
     "output_type": "stream",
     "text": [
      "[1 3 2]\n"
     ]
    },
    {
     "data": {
      "text/plain": [
       "array([0, 3, 2])"
      ]
     },
     "execution_count": 121,
     "metadata": {},
     "output_type": "execute_result"
    }
   ],
   "source": [
    "print(a)\n",
    "a[a<1.5] = 0 # assign 0 to all elements that fulfill condition\n",
    "a"
   ]
  },
  {
   "cell_type": "code",
   "execution_count": 122,
   "metadata": {},
   "outputs": [
    {
     "data": {
      "text/plain": [
       "array([3, 3, 3])"
      ]
     },
     "execution_count": 122,
     "metadata": {},
     "output_type": "execute_result"
    }
   ],
   "source": [
    "a[:] = 3 # set all elements to 3 \n",
    "a"
   ]
  },
  {
   "cell_type": "code",
   "execution_count": 123,
   "metadata": {},
   "outputs": [
    {
     "name": "stdout",
     "output_type": "stream",
     "text": [
      "True\n",
      "[[7. 1. 1. 1. 1. 1. 1. 1. 1.]\n",
      " [1. 1. 1. 1. 1. 1. 1. 1. 1.]\n",
      " [1. 1. 1. 1. 1. 1. 1. 1. 1.]]\n"
     ]
    },
    {
     "data": {
      "text/plain": [
       "False"
      ]
     },
     "execution_count": 123,
     "metadata": {},
     "output_type": "execute_result"
    }
   ],
   "source": [
    "x = np.ones((3,9))\n",
    "y = x\n",
    "print(y is x)\n",
    "y[0,0] = 7\n",
    "print(x)\n",
    "y = x.copy() # if you need a copy instead of a reference copy\n",
    "y is x"
   ]
  },
  {
   "cell_type": "code",
   "execution_count": 124,
   "metadata": {},
   "outputs": [
    {
     "data": {
      "text/plain": [
       "array([1., 1., 1., 1., 1., 1., 1., 1., 1.])"
      ]
     },
     "execution_count": 124,
     "metadata": {},
     "output_type": "execute_result"
    }
   ],
   "source": [
    "y = x[2,:].copy() # copy of a row vector\n",
    "y"
   ]
  },
  {
   "cell_type": "code",
   "execution_count": 125,
   "metadata": {},
   "outputs": [
    {
     "name": "stdout",
     "output_type": "stream",
     "text": [
      "[1 2 3 9 8 7]\n",
      "[1 9 2 8 3 7]\n"
     ]
    }
   ],
   "source": [
    "x = np.array([[1,2,3],[9,8,7]])\n",
    "print(x.flatten('C')) # reduce dimensionality C=row major = normal standard\n",
    "print(x.flatten('F')) # reduce dimensionality F=column"
   ]
  },
  {
   "cell_type": "code",
   "execution_count": 126,
   "metadata": {},
   "outputs": [
    {
     "data": {
      "text/plain": [
       "array([ 1.,  2.,  3.,  4.,  5.,  6.,  7.,  8.,  9., 10.])"
      ]
     },
     "execution_count": 126,
     "metadata": {},
     "output_type": "execute_result"
    }
   ],
   "source": [
    "np.arange(1.,11.) # or r [1.:11.] # range"
   ]
  },
  {
   "cell_type": "code",
   "execution_count": 127,
   "metadata": {},
   "outputs": [
    {
     "data": {
      "text/plain": [
       "array([0., 1., 2., 3., 4., 5., 6., 7., 8., 9.])"
      ]
     },
     "execution_count": 127,
     "metadata": {},
     "output_type": "execute_result"
    }
   ],
   "source": [
    "np.arange(10.) # or r [:10.] "
   ]
  },
  {
   "cell_type": "code",
   "execution_count": 128,
   "metadata": {},
   "outputs": [
    {
     "data": {
      "text/plain": [
       "array([[0., 0., 0., 0.],\n",
       "       [0., 0., 0., 0.],\n",
       "       [0., 0., 0., 0.]])"
      ]
     },
     "execution_count": 128,
     "metadata": {},
     "output_type": "execute_result"
    }
   ],
   "source": [
    "np.zeros((3,4)) # multidimensional 0 array with tuple dimensions"
   ]
  },
  {
   "cell_type": "code",
   "execution_count": 129,
   "metadata": {},
   "outputs": [
    {
     "data": {
      "text/plain": [
       "array([[[0., 0., 0., 0., 0.],\n",
       "        [0., 0., 0., 0., 0.],\n",
       "        [0., 0., 0., 0., 0.],\n",
       "        [0., 0., 0., 0., 0.]],\n",
       "\n",
       "       [[0., 0., 0., 0., 0.],\n",
       "        [0., 0., 0., 0., 0.],\n",
       "        [0., 0., 0., 0., 0.],\n",
       "        [0., 0., 0., 0., 0.]],\n",
       "\n",
       "       [[0., 0., 0., 0., 0.],\n",
       "        [0., 0., 0., 0., 0.],\n",
       "        [0., 0., 0., 0., 0.],\n",
       "        [0., 0., 0., 0., 0.]]])"
      ]
     },
     "execution_count": 129,
     "metadata": {},
     "output_type": "execute_result"
    }
   ],
   "source": [
    "np.zeros((3,4,5))"
   ]
  },
  {
   "cell_type": "code",
   "execution_count": 130,
   "metadata": {},
   "outputs": [
    {
     "data": {
      "text/plain": [
       "array([[1., 1., 1., 1.],\n",
       "       [1., 1., 1., 1.],\n",
       "       [1., 1., 1., 1.]])"
      ]
     },
     "execution_count": 130,
     "metadata": {},
     "output_type": "execute_result"
    }
   ],
   "source": [
    "np.ones((3,4))"
   ]
  },
  {
   "cell_type": "code",
   "execution_count": 131,
   "metadata": {},
   "outputs": [
    {
     "data": {
      "text/plain": [
       "array([[1., 0., 0.],\n",
       "       [0., 1., 0.],\n",
       "       [0., 0., 1.]])"
      ]
     },
     "execution_count": 131,
     "metadata": {},
     "output_type": "execute_result"
    }
   ],
   "source": [
    "np.eye(3) # 1-matrix (diagonal matrix)"
   ]
  },
  {
   "cell_type": "code",
   "execution_count": 28,
   "metadata": {},
   "outputs": [
    {
     "ename": "NameError",
     "evalue": "name 'np' is not defined",
     "output_type": "error",
     "traceback": [
      "\u001b[0;31m---------------------------------------------------------------------------\u001b[0m",
      "\u001b[0;31mNameError\u001b[0m                                 Traceback (most recent call last)",
      "\u001b[0;32m<ipython-input-28-fd6100965ae5>\u001b[0m in \u001b[0;36m<module>\u001b[0;34m\u001b[0m\n\u001b[1;32m      1\u001b[0m \u001b[0ma\u001b[0m \u001b[0;34m=\u001b[0m \u001b[0;34m[\u001b[0m\u001b[0;36m5\u001b[0m\u001b[0;34m,\u001b[0m\u001b[0;36m8\u001b[0m\u001b[0;34m,\u001b[0m\u001b[0;36m9\u001b[0m\u001b[0;34m,\u001b[0m\u001b[0;36m8\u001b[0m\u001b[0;34m,\u001b[0m\u001b[0;36m4\u001b[0m\u001b[0;34m]\u001b[0m \u001b[0;31m#np.arange(5)\u001b[0m\u001b[0;34m\u001b[0m\u001b[0;34m\u001b[0m\u001b[0m\n\u001b[0;32m----> 2\u001b[0;31m \u001b[0mnp\u001b[0m\u001b[0;34m.\u001b[0m\u001b[0mdiag\u001b[0m\u001b[0;34m(\u001b[0m\u001b[0ma\u001b[0m\u001b[0;34m)\u001b[0m \u001b[0;31m# or a.diagonal()\u001b[0m\u001b[0;34m\u001b[0m\u001b[0;34m\u001b[0m\u001b[0m\n\u001b[0m",
      "\u001b[0;31mNameError\u001b[0m: name 'np' is not defined"
     ]
    }
   ],
   "source": [
    "a = [5,8,9,8,4] #np.arange(5)\n",
    "np.diag(a) # or a.diagonal()"
   ]
  },
  {
   "cell_type": "code",
   "execution_count": 133,
   "metadata": {},
   "outputs": [
    {
     "data": {
      "text/plain": [
       "array([[0, 0, 0, 0, 0, 0],\n",
       "       [0, 0, 0, 0, 0, 0],\n",
       "       [0, 1, 0, 0, 0, 0],\n",
       "       [0, 0, 2, 0, 0, 0],\n",
       "       [0, 0, 0, 3, 0, 0],\n",
       "       [0, 0, 0, 0, 4, 0]])"
      ]
     },
     "execution_count": 133,
     "metadata": {},
     "output_type": "execute_result"
    }
   ],
   "source": [
    "np.diag(a,-1) # or a.diagonal(0)"
   ]
  },
  {
   "cell_type": "code",
   "execution_count": 134,
   "metadata": {
    "scrolled": true
   },
   "outputs": [
    {
     "data": {
      "text/plain": [
       "array([[0, 0, 0, 0, 0, 0],\n",
       "       [0, 0, 1, 0, 0, 0],\n",
       "       [0, 0, 0, 2, 0, 0],\n",
       "       [0, 0, 0, 0, 3, 0],\n",
       "       [0, 0, 0, 0, 0, 4],\n",
       "       [0, 0, 0, 0, 0, 0]])"
      ]
     },
     "execution_count": 134,
     "metadata": {},
     "output_type": "execute_result"
    }
   ],
   "source": [
    "np.diag(a,1) # or a.diagonal(0)"
   ]
  },
  {
   "cell_type": "code",
   "execution_count": 135,
   "metadata": {},
   "outputs": [
    {
     "data": {
      "text/plain": [
       "array([[0.29611594, 0.00773195, 0.29377354, 0.7839401 ],\n",
       "       [0.12512509, 0.79307987, 0.12448017, 0.63041092],\n",
       "       [0.9492119 , 0.47703198, 0.63437301, 0.97890224]])"
      ]
     },
     "execution_count": 135,
     "metadata": {},
     "output_type": "execute_result"
    }
   ],
   "source": [
    "np.random.rand(3,4)"
   ]
  },
  {
   "cell_type": "code",
   "execution_count": 136,
   "metadata": {},
   "outputs": [
    {
     "data": {
      "text/plain": [
       "array([1.        , 1.66666667, 2.33333333, 3.        ])"
      ]
     },
     "execution_count": 136,
     "metadata": {},
     "output_type": "execute_result"
    }
   ],
   "source": [
    "np.linspace(1,3,4)"
   ]
  },
  {
   "cell_type": "code",
   "execution_count": 137,
   "metadata": {},
   "outputs": [
    {
     "data": {
      "text/plain": [
       "array([[0, 1, 2, 3, 4, 0, 1, 2, 3, 4],\n",
       "       [0, 1, 2, 3, 4, 0, 1, 2, 3, 4],\n",
       "       [0, 1, 2, 3, 4, 0, 1, 2, 3, 4]])"
      ]
     },
     "execution_count": 137,
     "metadata": {},
     "output_type": "execute_result"
    }
   ],
   "source": [
    "np.tile(a, (3, 2))"
   ]
  },
  {
   "cell_type": "code",
   "execution_count": 138,
   "metadata": {},
   "outputs": [
    {
     "name": "stdout",
     "output_type": "stream",
     "text": [
      "[[16  1]\n",
      " [15 14]]\n",
      "[[4 3 0 3]\n",
      " [4 2 0 1]]\n"
     ]
    },
    {
     "data": {
      "text/plain": [
       "array([[16,  1,  4,  3,  0,  3],\n",
       "       [15, 14,  4,  2,  0,  1]])"
      ]
     },
     "execution_count": 138,
     "metadata": {},
     "output_type": "execute_result"
    }
   ],
   "source": [
    "a = np.random.randint(0,20,(2,2))\n",
    "b = np.random.randint(0,5,(2,4))\n",
    "print(a)\n",
    "print(b)\n",
    "np.concatenate((a,b),1) # or np.hstack((a,b)) or c [a,b] or np.concatenate((a,b)) or np.vstack((a,b)) or r [a,b] "
   ]
  },
  {
   "cell_type": "code",
   "execution_count": 139,
   "metadata": {},
   "outputs": [
    {
     "data": {
      "text/plain": [
       "16"
      ]
     },
     "execution_count": 139,
     "metadata": {},
     "output_type": "execute_result"
    }
   ],
   "source": [
    "a.max()"
   ]
  },
  {
   "cell_type": "code",
   "execution_count": 140,
   "metadata": {},
   "outputs": [
    {
     "data": {
      "text/plain": [
       "array([16, 14])"
      ]
     },
     "execution_count": 140,
     "metadata": {},
     "output_type": "execute_result"
    }
   ],
   "source": [
    "a.max(0)"
   ]
  },
  {
   "cell_type": "code",
   "execution_count": 141,
   "metadata": {},
   "outputs": [
    {
     "data": {
      "text/plain": [
       "array([16, 15])"
      ]
     },
     "execution_count": 141,
     "metadata": {},
     "output_type": "execute_result"
    }
   ],
   "source": [
    "a.max(1)"
   ]
  },
  {
   "cell_type": "code",
   "execution_count": 142,
   "metadata": {},
   "outputs": [
    {
     "name": "stdout",
     "output_type": "stream",
     "text": [
      "[[12  3 12  0]\n",
      " [18  2  3  4]]\n",
      "[[3 0 0 0]\n",
      " [2 2 3 4]]\n"
     ]
    },
    {
     "data": {
      "text/plain": [
       "array([[12,  3, 12,  0],\n",
       "       [18,  2,  3,  4]])"
      ]
     },
     "execution_count": 142,
     "metadata": {},
     "output_type": "execute_result"
    }
   ],
   "source": [
    "a = np.random.randint(0,20,(2,4)); b = np.random.randint(0,5,(2,4))\n",
    "print(a)\n",
    "print(b)\n",
    "np.where(a>b, a, b)"
   ]
  },
  {
   "cell_type": "code",
   "execution_count": 143,
   "metadata": {},
   "outputs": [
    {
     "name": "stdout",
     "output_type": "stream",
     "text": [
      "[2 2]\n"
     ]
    },
    {
     "data": {
      "text/plain": [
       "2.8284271247461903"
      ]
     },
     "execution_count": 143,
     "metadata": {},
     "output_type": "execute_result"
    }
   ],
   "source": [
    "v = np.random.randint(0,5,2)\n",
    "print(v)\n",
    "np.sqrt(np.dot(v,v)) # or linalg.norm(v)"
   ]
  },
  {
   "cell_type": "code",
   "execution_count": 144,
   "metadata": {},
   "outputs": [
    {
     "data": {
      "text/plain": [
       "array([[-0.02631579, -0.02631579,  0.15789474],\n",
       "       [ 0.28947368, -0.71052632,  0.26315789],\n",
       "       [-0.39473684,  1.60526316, -0.63157895]])"
      ]
     },
     "execution_count": 144,
     "metadata": {},
     "output_type": "execute_result"
    }
   ],
   "source": [
    "a = np.random.randint(0,10,(3,3))\n",
    "np.linalg.inv(a)"
   ]
  },
  {
   "cell_type": "code",
   "execution_count": 145,
   "metadata": {},
   "outputs": [
    {
     "data": {
      "text/plain": [
       "array([[-0.02631579, -0.02631579,  0.15789474],\n",
       "       [ 0.28947368, -0.71052632,  0.26315789],\n",
       "       [-0.39473684,  1.60526316, -0.63157895]])"
      ]
     },
     "execution_count": 145,
     "metadata": {},
     "output_type": "execute_result"
    }
   ],
   "source": [
    "np.linalg.pinv(a)"
   ]
  },
  {
   "cell_type": "code",
   "execution_count": 146,
   "metadata": {},
   "outputs": [
    {
     "data": {
      "text/plain": [
       "array([-0.56818182, -1.34090909,  2.77272727])"
      ]
     },
     "execution_count": 146,
     "metadata": {},
     "output_type": "execute_result"
    }
   ],
   "source": [
    "a = np.random.randint(0,10,(3,3)); b = np.random.randint(0,10,3)\n",
    "\n",
    "np.linalg.solve(a,b)"
   ]
  },
  {
   "cell_type": "code",
   "execution_count": 147,
   "metadata": {},
   "outputs": [
    {
     "name": "stdout",
     "output_type": "stream",
     "text": [
      "[[-0.50961682  0.85892129 -0.05044713]\n",
      " [-0.75650219 -0.47523705 -0.44928185]\n",
      " [-0.40987209 -0.19079822  0.89196463]] [19.59539261  4.97622799  1.80492196] [[-0.45712914 -0.66518491 -0.59039139]\n",
      " [-0.84027602  0.54056311  0.04156603]\n",
      " [-0.29149471 -0.51509276  0.80604608]]\n"
     ]
    }
   ],
   "source": [
    "(U, S, V) = np.linalg.svd(a)\n",
    "print(U,S,V)"
   ]
  },
  {
   "cell_type": "code",
   "execution_count": 148,
   "metadata": {},
   "outputs": [
    {
     "name": "stdout",
     "output_type": "stream",
     "text": [
      "[[ 1.+0.j -0.-2.j]\n",
      " [ 0.+2.j  5.+0.j]]\n"
     ]
    },
    {
     "data": {
      "text/plain": [
       "array([[1.+0.j, 0.+0.j],\n",
       "       [0.+2.j, 1.+0.j]])"
      ]
     },
     "execution_count": 148,
     "metadata": {},
     "output_type": "execute_result"
    }
   ],
   "source": [
    "a = np.array([[1,-2j],[2j,5]])\n",
    "print(a)\n",
    "np.linalg.cholesky(a) # cholesky decomposition"
   ]
  },
  {
   "cell_type": "code",
   "execution_count": 149,
   "metadata": {},
   "outputs": [
    {
     "data": {
      "text/plain": [
       "(array([13.20202077, -3.90102985,  0.69900908]),\n",
       " array([[-0.67198816, -0.5722786 , -0.62950769],\n",
       "        [-0.69138181,  0.80944965,  0.47671636],\n",
       "        [-0.26537353,  0.13148562,  0.61356465]]))"
      ]
     },
     "execution_count": 149,
     "metadata": {},
     "output_type": "execute_result"
    }
   ],
   "source": [
    "a = np.random.randint(0,10,(3,3))\n",
    "np.linalg.eig(a) # eigenvalues + eigenvectors"
   ]
  },
  {
   "cell_type": "code",
   "execution_count": 150,
   "metadata": {},
   "outputs": [
    {
     "data": {
      "text/plain": [
       "(array([[-0.53452248,  0.83906454, -0.10127394],\n",
       "        [-0.80178373, -0.54133196, -0.25318484],\n",
       "        [-0.26726124, -0.0541332 ,  0.9621024 ]]),\n",
       " array([[-11.22497216,  -4.81070235,  -8.01783726],\n",
       "        [  0.        ,   5.27798663,  -5.03438725],\n",
       "        [  0.        ,   0.        ,   0.60764362]]))"
      ]
     },
     "execution_count": 150,
     "metadata": {},
     "output_type": "execute_result"
    }
   ],
   "source": [
    "np.linalg.qr(a) # qr factorization"
   ]
  },
  {
   "cell_type": "code",
   "execution_count": 151,
   "metadata": {},
   "outputs": [
    {
     "data": {
      "text/plain": [
       "array([[13. +0.j        ,  2.5-6.06217783j,  2.5+6.06217783j],\n",
       "       [19. +0.j        ,  4. +6.92820323j,  4. -6.92820323j],\n",
       "       [ 7. +0.j        ,  1. +1.73205081j,  1. -1.73205081j]])"
      ]
     },
     "execution_count": 151,
     "metadata": {},
     "output_type": "execute_result"
    }
   ],
   "source": [
    "np.fft.fft(a) # one-dimensional discrete Fourier Transform"
   ]
  },
  {
   "cell_type": "code",
   "execution_count": 152,
   "metadata": {},
   "outputs": [
    {
     "data": {
      "text/plain": [
       "array([[4.33333333+0.j        , 0.83333333+2.02072594j,\n",
       "        0.83333333-2.02072594j],\n",
       "       [6.33333333+0.j        , 1.33333333-2.30940108j,\n",
       "        1.33333333+2.30940108j],\n",
       "       [2.33333333+0.j        , 0.33333333-0.57735027j,\n",
       "        0.33333333+0.57735027j]])"
      ]
     },
     "execution_count": 152,
     "metadata": {},
     "output_type": "execute_result"
    }
   ],
   "source": [
    "np.fft.ifft(a) # one-dimensional inverse discrete Fourier Transform"
   ]
  },
  {
   "cell_type": "code",
   "execution_count": 153,
   "metadata": {},
   "outputs": [
    {
     "name": "stdout",
     "output_type": "stream",
     "text": [
      "[[1 4 3 6 5 8]\n",
      " [0 7 4 6 8 8]\n",
      " [6 3 1 5 7 0]\n",
      " [1 5 7 6 1 9]\n",
      " [9 8 9 1 4 1]\n",
      " [7 8 2 8 4 7]]\n",
      "[[1 3 4 5 6 8]\n",
      " [0 4 6 7 8 8]\n",
      " [0 1 3 5 6 7]\n",
      " [1 1 5 6 7 9]\n",
      " [1 1 4 8 9 9]\n",
      " [2 4 7 7 8 8]]\n"
     ]
    }
   ],
   "source": [
    "a = np.random.randint(0,10,(6,6))\n",
    "print(a)\n",
    "print(np.sort(a)) # or a.sort()"
   ]
  },
  {
   "cell_type": "code",
   "execution_count": 154,
   "metadata": {
    "scrolled": true
   },
   "outputs": [
    {
     "name": "stdout",
     "output_type": "stream",
     "text": [
      "[[1 4 3 6 5 8]\n",
      " [0 7 4 6 8 8]\n",
      " [6 3 1 5 7 0]\n",
      " [1 5 7 6 1 9]\n",
      " [9 8 9 1 4 1]\n",
      " [7 8 2 8 4 7]]\n"
     ]
    },
    {
     "data": {
      "text/plain": [
       "array([[0, 7, 4, 6, 8, 8],\n",
       "       [1, 4, 3, 6, 5, 8],\n",
       "       [1, 5, 7, 6, 1, 9],\n",
       "       [6, 3, 1, 5, 7, 0],\n",
       "       [7, 8, 2, 8, 4, 7],\n",
       "       [9, 8, 9, 1, 4, 1]])"
      ]
     },
     "execution_count": 154,
     "metadata": {},
     "output_type": "execute_result"
    }
   ],
   "source": [
    "print(a)\n",
    "# print(a[:,0])\n",
    "# print(np.argsort(a[:,0]))\n",
    "a[np.argsort(a[:,0])]"
   ]
  },
  {
   "cell_type": "markdown",
   "metadata": {},
   "source": [
    "## Scipy"
   ]
  },
  {
   "cell_type": "markdown",
   "metadata": {},
   "source": [
    "* The SciPy library depends on NumPy\n",
    "* gathers a variety of high level science and engineering modules together:\n",
    " * **Fftpack** discrete fourier transform algorithms Integrate integration routines\n",
    " * **Interpolate** interpolation tools Linalg linear algebra routines\n",
    " * **Optimize** optimization tools Signal signal processing tools\n",
    " * **Sparse** sparse matrices Stats statistical functions\n",
    " * **Io** data input and output\n",
    " * Special definitions of many usual math functions\n",
    " * Weave C/C++ integration"
   ]
  },
  {
   "cell_type": "markdown",
   "metadata": {},
   "source": [
    "* scipy.signal - signal processing tools\n",
    " * Convolution\n",
    " * B-splines\n",
    " * Filtering\n",
    " * Filter design\n",
    " * Matlab-style IIR filter design Linear Systems\n",
    " * LTI Reresentations Waveforms\n",
    " * Window functions Wavelets"
   ]
  },
  {
   "cell_type": "markdown",
   "metadata": {},
   "source": [
    "## Matplotlib/Pylab"
   ]
  },
  {
   "cell_type": "markdown",
   "metadata": {},
   "source": [
    "* Matplotlib is a object oriented plotting library.\n",
    "* Pylab is the interface on top of Matplotlib emulating MATLAB functions.\n",
    "* You can use latex expressions to add math to your plot.\n",
    "* check matplotlib website"
   ]
  },
  {
   "cell_type": "code",
   "execution_count": 155,
   "metadata": {},
   "outputs": [
    {
     "data": {
      "text/plain": [
       "<matplotlib.image.AxesImage at 0x11924d748>"
      ]
     },
     "execution_count": 155,
     "metadata": {},
     "output_type": "execute_result"
    },
    {
     "data": {
      "image/png": "[encoded data removed]",
      "text/plain": [
       "<Figure size 288x288 with 1 Axes>"
      ]
     },
     "metadata": {
      "needs_background": "light"
     },
     "output_type": "display_data"
    }
   ],
   "source": [
    "a = np.diag(np.arange(10))\n",
    "plt.matshow(a)"
   ]
  },
  {
   "cell_type": "code",
   "execution_count": 156,
   "metadata": {},
   "outputs": [
    {
     "data": {
      "text/plain": [
       "<matplotlib.image.AxesImage at 0x1192d9ef0>"
      ]
     },
     "execution_count": 156,
     "metadata": {},
     "output_type": "execute_result"
    },
    {
     "data": {
      "image/png": "[encoded data removed]",
      "text/plain": [
       "<Figure size 288x288 with 1 Axes>"
      ]
     },
     "metadata": {
      "needs_background": "light"
     },
     "output_type": "display_data"
    }
   ],
   "source": [
    "a = np.random.randint(0,50,(25,25))\n",
    "plt.matshow(a)"
   ]
  },
  {
   "cell_type": "code",
   "execution_count": 157,
   "metadata": {},
   "outputs": [],
   "source": [
    "%matplotlib inline"
   ]
  },
  {
   "cell_type": "code",
   "execution_count": 158,
   "metadata": {},
   "outputs": [
    {
     "data": {
      "text/plain": [
       "[<mpl_toolkits.mplot3d.art3d.Line3D at 0x1193c54e0>]"
      ]
     },
     "execution_count": 158,
     "metadata": {},
     "output_type": "execute_result"
    },
    {
     "data": {
      "image/png": "[encoded data removed]",
      "text/plain": [
       "<Figure size 432x288 with 1 Axes>"
      ]
     },
     "metadata": {
      "needs_background": "light"
     },
     "output_type": "display_data"
    }
   ],
   "source": [
    "from mpl_toolkits.mplot3d import Axes3D\n",
    "\n",
    "fig = plt.figure()\n",
    "ax = fig.add_subplot(111, projection='3d')\n",
    "\n",
    "a = np.linspace(1,20,500)\n",
    "\n",
    "xs = np.sin(a)*np.sqrt(a)\n",
    "ys = np.cos(a)*-a**2\n",
    "zs = a\n",
    "\n",
    "ax.plot(xs,ys,zs)"
   ]
  },
  {
   "cell_type": "code",
   "execution_count": 164,
   "metadata": {},
   "outputs": [
    {
     "name": "stdout",
     "output_type": "stream",
     "text": [
      "Using matplotlib backend: Qt5Agg\n"
     ]
    }
   ],
   "source": [
    "%matplotlib"
   ]
  },
  {
   "cell_type": "code",
   "execution_count": 165,
   "metadata": {},
   "outputs": [],
   "source": [
    "from mpl_toolkits.mplot3d import Axes3D\n",
    "\n",
    "fig = plt.figure()\n",
    "ax = fig.add_subplot(111, projection='3d')\n",
    "\n",
    "a = np.linspace(1,20,500)\n",
    "\n",
    "xs = np.sin(a)*np.sqrt(a)\n",
    "ys = np.cos(a)*-a**2\n",
    "zs = a\n",
    "\n",
    "ax.plot(xs,ys,zs);"
   ]
  },
  {
   "cell_type": "code",
   "execution_count": null,
   "metadata": {},
   "outputs": [],
   "source": []
  }
 ],
 "metadata": {
  "hide_input": false,
  "kernelspec": {
   "display_name": "Python 3",
   "language": "python",
   "name": "python3"
  },
  "language_info": {
   "codemirror_mode": {
    "name": "ipython",
    "version": 3
   },
   "file_extension": ".py",
   "mimetype": "text/x-python",
   "name": "python",
   "nbconvert_exporter": "python",
   "pygments_lexer": "ipython3",
   "version": "3.8.3"
  },
  "toc": {
   "base_numbering": 1,
   "nav_menu": {},
   "number_sections": true,
   "sideBar": true,
   "skip_h1_title": true,
   "title_cell": "Table of Contents",
   "title_sidebar": "Contents",
   "toc_cell": false,
   "toc_position": {
    "height": "calc(100% - 180px)",
    "left": "10px",
    "top": "150px",
    "width": "215.2px"
   },
   "toc_section_display": true,
   "toc_window_display": false
  }
 },
 "nbformat": 4,
 "nbformat_minor": 1
}
